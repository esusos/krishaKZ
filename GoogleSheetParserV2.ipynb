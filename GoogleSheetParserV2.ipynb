{
 "cells": [
  {
   "cell_type": "code",
   "execution_count": 1,
   "id": "7e6116da",
   "metadata": {},
   "outputs": [],
   "source": [
    "# import libraries\n",
    "import requests\n",
    "import pandas as pd\n",
    "import datetime\n",
    "from bs4 import BeautifulSoup\n",
    "import string\n",
    "import regex as re\n",
    "import pygsheets\n",
    "import os\n",
    "import json\n",
    "import gspread_dataframe as gd"
   ]
  },
  {
   "cell_type": "code",
   "execution_count": 2,
   "id": "ef963380",
   "metadata": {},
   "outputs": [],
   "source": [
    "# function that parse website and return dataframe\n",
    "def parse():\n",
    "    \n",
    "    count = 0 # count variable\n",
    "    df = pd.DataFrame({'Описание':[],'Адрес':[],'Цена':[], 'Ссылка':[]}) # empty dataframe\n",
    "\n",
    "    while count < 300:\n",
    "        r = requests.get(f'https://krisha.kz/prodazha/kvartiry/nur-sultan/?page={count}') # requsting connection with page\n",
    "        html = BeautifulSoup(r.content, 'html.parser')\n",
    "        a =html.findAll('div',class_=\"a-card__inc\")\n",
    "\n",
    "\n",
    "        for element in a:\n",
    "            title = element.find('a',class_=\"a-card__title\").get_text(strip = True)\n",
    "            price = element.find('div',class_=\"a-card__price\").get_text(strip = True)\n",
    "            adress = element.find('div',class_=\"a-card__subtitle\").get_text(strip = True)\n",
    "            link = element.find('a', class_=\"a-card__title\")['href']\n",
    "            \n",
    "            df = df.append({'Описание':title, # appending data to dataframe\n",
    "                                         'Адрес':adress,\n",
    "                                         'Цена':price,\n",
    "                                           'Ссылка':link},\n",
    "                                         ignore_index = True)\n",
    "            \n",
    "            \n",
    "\n",
    "        count+=1\n",
    "    return df"
   ]
  },
  {
   "cell_type": "code",
   "execution_count": 6,
   "id": "91af3a4a",
   "metadata": {},
   "outputs": [],
   "source": [
    "# function to clean dataframe\n",
    "def cleanData(df):\n",
    "    # before it was 44 000 000〒\n",
    "    df['Цена'] = df['Цена'].str.replace('\\D',' ')\n",
    "    df['Цена'] = df['Цена'].str.replace(' ','')\n",
    "    df['Цена'] = df['Цена'].astype('int64') \n",
    "    \n",
    "    # remove letters from column, before it was, 3-комнатная квартира, 94 м², 10/11 этаж\n",
    "    df['Описание'] = df['Описание'].str.replace('\\D',' ')\n",
    "    df['Количество комнат'] = df['Описание'].str[:1]\n",
    "    df['Описание'] = df['Описание'].str[1:]\n",
    "    \n",
    "    # area of apartment\n",
    "    squareArray = []\n",
    "    for number in df['Описание']:\n",
    "        squareArray.append(re.search('\\d+|$', number).group()) # REGEX PATTERN to find first number\n",
    "\n",
    "    df['Квадратный метр'] = squareArray\n",
    "    df['Квадратный метр'] = df['Квадратный метр'].astype('int64')\n",
    "    df.drop(['Описание'], axis = 'columns', inplace=True)\n",
    "    \n",
    "    # district of apartment\n",
    "    splitAdress = []\n",
    "    for el in df['Адрес']:\n",
    "        splitAdress.append(el.split()[0]) # get first word \n",
    "    df['Район'] = splitAdress # new column in dataframe\n",
    "    df = df.loc[(df['Район']=='Есильский') | (df['Район']=='Алматы') | (df['Район']=='Сарыарка')] # leave rows which contain specific words\n",
    "    df = df.drop(['Адрес'], axis = 'columns') # drop column\n",
    "    \n",
    "    df['Цена за метр'] = (df['Цена']/df['Квадратный метр']).astype('int64')\n",
    "    \n",
    "    df['Ссылка'] = 'https://krisha.kz' + df['Ссылка']\n",
    "    \n",
    "    return df"
   ]
  },
  {
   "cell_type": "code",
   "execution_count": 7,
   "id": "f89d9d11",
   "metadata": {},
   "outputs": [],
   "source": [
    "# function to parse and clean page\n",
    "def parseSheet():\n",
    "    \n",
    "    df = parse()\n",
    "    df = cleanData(df)\n",
    "    return df"
   ]
  },
  {
   "cell_type": "code",
   "execution_count": 8,
   "id": "33f3b13b",
   "metadata": {
    "scrolled": true
   },
   "outputs": [],
   "source": [
    "import warnings\n",
    "warnings.filterwarnings('ignore')\n",
    "\n",
    "# assign dataframe\n",
    "df = parseSheet()"
   ]
  },
  {
   "cell_type": "code",
   "execution_count": 9,
   "id": "8e1b8800",
   "metadata": {},
   "outputs": [],
   "source": [
    "# load json file\n",
    "service_file = 'krishakz-2933fdb7b869.json'\n",
    "\n",
    "# get connection to file\n",
    "gc = pygsheets.authorize(service_file = service_file)\n",
    "\n",
    "sheetName = 'KrishaKZ'\n",
    "sh = gc.open(sheetName)\n",
    "\n",
    "wks = sh.worksheet_by_title('test1')\n",
    "\n",
    "\n"
   ]
  },
  {
   "cell_type": "code",
   "execution_count": 10,
   "id": "15475465",
   "metadata": {},
   "outputs": [],
   "source": [
    "wks.set_dataframe(df,(1,1), copy_index = True)"
   ]
  },
  {
   "cell_type": "markdown",
   "id": "e4c9bc28",
   "metadata": {},
   "source": [
    "###  Link for google sheet\n",
    "https://docs.google.com/spreadsheets/d/1WYTv5SD_Z7fMmUsjeiVnBYUu9jZPMXcXFRMkLP_rHTk/edit?usp=sharing"
   ]
  },
  {
   "cell_type": "markdown",
   "id": "a527ce9e",
   "metadata": {},
   "source": [
    "### Link for dashboard\n",
    "https://datastudio.google.com/s/pGrcla4u8x4"
   ]
  }
 ],
 "metadata": {
  "kernelspec": {
   "display_name": "Python 3 (ipykernel)",
   "language": "python",
   "name": "python3"
  },
  "language_info": {
   "codemirror_mode": {
    "name": "ipython",
    "version": 3
   },
   "file_extension": ".py",
   "mimetype": "text/x-python",
   "name": "python",
   "nbconvert_exporter": "python",
   "pygments_lexer": "ipython3",
   "version": "3.9.12"
  }
 },
 "nbformat": 4,
 "nbformat_minor": 5
}
